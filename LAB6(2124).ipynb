{
  "cells": [
    {
      "cell_type": "markdown",
      "metadata": {
        "id": "GjsLUqH0O1I7"
      },
      "source": [
        "## **Ai Applications & Ethics (TC-7)**\n",
        "## **LAB 6**\n",
        "<H4 align = \"right\">Utkarsh Bhangale<br>20200802124</H4>"
      ]
    },
    {
      "cell_type": "markdown",
      "metadata": {
        "id": "YEoz7e04O5Pj"
      },
      "source": [
        "#### **Aim: -** Program to implement, game playing: Minimax, alpha-beta pruning.\n",
        "#### **Software Required:** Google Colab.\n"
      ]
    },
    {
      "cell_type": "markdown",
      "metadata": {
        "id": "lqDRILFyPD1i"
      },
      "source": [
        "**Algorithm:**\n",
        "\n",
        "1. **Define the Game Tree:**\n",
        "* Represent the game state as a tree where each node represents a possible  game state.\n",
        "* Nodes at even depths (0, 2, 4, etc.) represent the maximizing player's turn.\n",
        "* Nodes at odd depths (1, 3, 5, etc.) represent the minimizing player's turn.\n",
        "\n",
        "2. **Evaluate Terminal Nodes:**\n",
        "* Assign values to terminal nodes based on the game outcome. For example, +1 for a win, -1 for a loss, and 0 for a draw.\n",
        "3. **Recursively Evaluate Non-terminal Nodes:**\n",
        "* Use a recursive approach to evaluate non-terminal nodes by considering the values of their children.\n",
        "* If it's the turn of the maximizing player, choose the child with the maximum value.\n",
        "* If it's the turn of the minimizing player, choose the child with the minimum value.\n",
        "4. **Return the Best Move or Value:**\n",
        "* At the root of the tree (initial game state), choose the move or value that leads to the best outcome for the maximizing player.\n",
        "---"
      ]
    },
    {
      "cell_type": "markdown",
      "metadata": {
        "id": "qIN9k-R8Pujd"
      },
      "source": [
        "> #### **Pseudo Code:**\n",
        "    plaintext\n",
        "    function minimax(node, depth, maximizingPlayer):\n",
        "    if depth is 0 or node is a terminal node:\n",
        "    return the heuristic value of node\n",
        "    if maximizingPlayer:\n",
        "    maxEval = -∞\n",
        "    for each child of node:\n",
        "    eval = minimax(child, depth - 1, False)\n",
        "    maxEval = max(maxEval, eval)\n",
        "    return maxEval\n",
        "    else: # minimizing player\n",
        "    minEval = +∞\n",
        "    for each child of node:\n",
        "    eval = minimax(child, depth - 1, True)\n",
        "    minEval = min(minEval, eval)\n",
        "    return minEval\n",
        "    // Initial call\n",
        "    minimax(initialNode, depth, True)"
      ]
    },
    {
      "cell_type": "code",
      "execution_count": 2,
      "metadata": {
        "colab": {
          "base_uri": "https://localhost:8080/"
        },
        "id": "6-I84VDoOpi1",
        "outputId": "d99e6397-12b8-4c1c-eae2-cec74c183c9f"
      },
      "outputs": [
        {
          "name": "stdout",
          "output_type": "stream",
          "text": [
            "Best value at root node is: 2\n"
          ]
        }
      ],
      "source": [
        "import math\n",
        "class Node:\n",
        " def __init__(self, value, children=None):\n",
        "  self.value = value\n",
        "  self.children = children if children else []\n",
        "def min_max(node, depth, is_maximizing):\n",
        "  if depth == 0 or not node.children:\n",
        "    return node.value\n",
        "\n",
        "  if is_maximizing:\n",
        "    max_eval = -math.inf\n",
        "    for child in node.children:\n",
        "      eval = min_max(child, depth - 1, False)\n",
        "      max_eval = max(max_eval, eval)\n",
        "    return max_eval\n",
        "\n",
        "  else:\n",
        "    min_eval = math.inf\n",
        "    for child in node.children:\n",
        "      eval = min_max(child, depth - 1, True)\n",
        "      min_eval = min(min_eval, eval)\n",
        "    return min_eval\n",
        "\n",
        "def build_custom_graph():\n",
        " # Define the custom game graph with provided values\n",
        " node_g = Node(-1)\n",
        " node_f = Node(8)\n",
        " node_e = Node(-3)\n",
        " node_d = Node(-1, [node_g])\n",
        " node_c = Node(2)\n",
        " node_b = Node(1, [node_e, node_f])\n",
        " root_node = Node(4, [node_b, node_c, node_d])\n",
        "\n",
        " return root_node\n",
        "\n",
        "root_node = build_custom_graph()\n",
        "depth = 4\n",
        "result = min_max(root_node, depth, True)\n",
        "print(f\"Best value at root node is: {result}\")\n"
      ]
    },
    {
      "cell_type": "markdown",
      "metadata": {
        "id": "zXkodGE2QAo0"
      },
      "source": [
        "> #### **Relative Application: -**\n",
        "* **Chess, Checkers, and Go:** Minimax is widely used to create AI opponents in board games. It helps the computer player decide\n",
        "the best move by considering possible future moves and outcomes.\n",
        "* **Card Games like Poker:**Minimax can be applied to poker games to create strategic AI players that evaluate different possible\n",
        "actions and select the one with the highest expected utility.\n",
        "* **Network Routing:** Minimax can be applied to optimize network routing, where the goal is to find the path that minimizes\n",
        "potential delays or maximizes data throughput.\n",
        "* **Adversarial Scenarios:** In the field of cybersecurity, Minimax can be used to model the decision-making process of both\n",
        "attackers and defenders in an adversarial environment.\n",
        "* **General Game Playing:** Minimax is a fundamental concept in game theory and general game playing, where the objective is to\n",
        "create agents that can play a wide variety of games effectively"
      ]
    },
    {
      "cell_type": "markdown",
      "metadata": {
        "id": "ofVwVSBAQE07"
      },
      "source": [
        "> ## **Conclusion:**\n",
        "We have successfully implemented game playing: Minimax, alpha-beta pruning using python."
      ]
    }
  ],
  "metadata": {
    "colab": {
      "provenance": []
    },
    "kernelspec": {
      "display_name": "Python 3",
      "name": "python3"
    },
    "language_info": {
      "name": "python"
    }
  },
  "nbformat": 4,
  "nbformat_minor": 0
}
